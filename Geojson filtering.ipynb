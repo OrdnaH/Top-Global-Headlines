{
 "cells": [
  {
   "cell_type": "code",
   "execution_count": 1,
   "metadata": {},
   "outputs": [],
   "source": [
    "import datetime as dt\n",
    "import pandas as pd\n",
    "import pymongo\n",
    "import requests\n",
    "import json\n",
    "from bson.json_util import dumps\n",
    "#import update from updateDB\n",
    "from config import API_KEY\n",
    "from countries import countries, country_codes\n",
    "\n",
    "from flask import Flask, jsonify, render_template\n",
    "app = Flask(__name__)\n",
    "\n",
    "conn = 'mongodb://localhost:27017/top_headlines'\n",
    "# print(conn)\n",
    "client = pymongo.MongoClient(conn)\n",
    "# print(client)\n",
    "# Declare the database\n",
    "db = client[\"top_headlines\"]"
   ]
  },
  {
   "cell_type": "code",
   "execution_count": 2,
   "metadata": {},
   "outputs": [
    {
     "name": "stdout",
     "output_type": "stream",
     "text": [
      "SGP\n",
      "Singapore\n"
     ]
    }
   ],
   "source": [
    "with open('countries.geo.json') as f:\n",
    "    data = json.load(f)\n",
    "#     for entry in data:\n",
    "#         print(entry)\n",
    "    print(data[\"features\"][0][\"id\"])\n",
    "    print(data[\"features\"][0][\"properties\"][\"name\"])"
   ]
  },
  {
   "cell_type": "code",
   "execution_count": 4,
   "metadata": {},
   "outputs": [
    {
     "data": {
      "text/plain": [
       "['Argentina',\n",
       " 'Australia',\n",
       " 'Austria',\n",
       " 'Belgium',\n",
       " 'Brazil',\n",
       " 'Bulgaria',\n",
       " 'Canada',\n",
       " 'China',\n",
       " 'Colombia',\n",
       " 'Cuba',\n",
       " 'Czech Republic',\n",
       " 'Egypt',\n",
       " 'France',\n",
       " 'Germany',\n",
       " 'Greece',\n",
       " 'Hong Kong',\n",
       " 'Hungary',\n",
       " 'India',\n",
       " 'Indonesia',\n",
       " 'Ireland',\n",
       " 'Israel',\n",
       " 'Italy',\n",
       " 'Japan',\n",
       " 'Latvia',\n",
       " 'Lithuania',\n",
       " 'Malaysia',\n",
       " 'Mexico',\n",
       " 'Morocco',\n",
       " 'Netherlands',\n",
       " 'New Zealand',\n",
       " 'Nigeria',\n",
       " 'Norway',\n",
       " 'Philippines',\n",
       " 'Poland',\n",
       " 'Portugal',\n",
       " 'Romania',\n",
       " 'Russia',\n",
       " 'Saudi Arabia',\n",
       " 'Republic of Serbia',\n",
       " 'Singapore',\n",
       " 'Slovakia',\n",
       " 'Slovenia',\n",
       " 'South Africa',\n",
       " 'South Korea',\n",
       " 'Sweden',\n",
       " 'Switzerland',\n",
       " 'Taiwan',\n",
       " 'Thailand',\n",
       " 'Turkey',\n",
       " 'United Arab Emirates',\n",
       " 'Ukraine',\n",
       " 'United Kingdom',\n",
       " 'United States of America',\n",
       " 'Venezuela']"
      ]
     },
     "execution_count": 4,
     "metadata": {},
     "output_type": "execute_result"
    }
   ],
   "source": [
    "countries\n",
    "formatted_countries= []\n",
    "for country in countries:\n",
    "    if country == \"Serbia\":\n",
    "        country = \"Republic of Serbia\"\n",
    "        formatted_countries.append(country)\n",
    "    else:\n",
    "        formatted_countries.append(country)\n",
    "formatted_countries"
   ]
  },
  {
   "cell_type": "code",
   "execution_count": 5,
   "metadata": {},
   "outputs": [
    {
     "name": "stdout",
     "output_type": "stream",
     "text": [
      "Singapore\n",
      "Hong Kong\n",
      "United Arab Emirates\n",
      "Argentina\n",
      "Australia\n",
      "Austria\n",
      "Belgium\n",
      "Bulgaria\n",
      "Brazil\n",
      "Canada\n",
      "Switzerland\n",
      "China\n",
      "Colombia\n",
      "Cuba\n",
      "Czech Republic\n",
      "Germany\n",
      "Egypt\n",
      "France\n",
      "United Kingdom\n",
      "Greece\n",
      "Hungary\n",
      "Indonesia\n",
      "India\n",
      "Ireland\n",
      "Israel\n",
      "Italy\n",
      "Japan\n",
      "South Korea\n",
      "Lithuania\n",
      "Latvia\n",
      "Morocco\n",
      "Mexico\n",
      "Malaysia\n",
      "Nigeria\n",
      "Netherlands\n",
      "Norway\n",
      "New Zealand\n",
      "Philippines\n",
      "Poland\n",
      "Portugal\n",
      "Romania\n",
      "Russia\n",
      "Saudi Arabia\n",
      "Republic of Serbia\n",
      "Slovakia\n",
      "Slovenia\n",
      "Sweden\n",
      "Thailand\n",
      "Turkey\n",
      "Taiwan\n",
      "Ukraine\n",
      "United States of America\n",
      "Venezuela\n",
      "South Africa\n"
     ]
    }
   ],
   "source": [
    "goodData = []\n",
    "for entry in data[\"features\"]:\n",
    "    if entry[\"properties\"][\"name\"] in formatted_countries:\n",
    "        goodData.append(entry)\n",
    "        print(entry[\"properties\"][\"name\"])\n",
    "    else:\n",
    "        pass"
   ]
  },
  {
   "cell_type": "code",
   "execution_count": 6,
   "metadata": {},
   "outputs": [
    {
     "data": {
      "text/plain": [
       "54"
      ]
     },
     "execution_count": 6,
     "metadata": {},
     "output_type": "execute_result"
    }
   ],
   "source": [
    "len(goodData)"
   ]
  },
  {
   "cell_type": "code",
   "execution_count": null,
   "metadata": {},
   "outputs": [],
   "source": [
    "#if just passing goodData doesnt work, try this\n",
    "goodData = {'type': 'FeatureCollection',\n",
    "            'features': goodData}"
   ]
  }
 ],
 "metadata": {
  "kernelspec": {
   "display_name": "Python 3",
   "language": "python",
   "name": "python3"
  },
  "language_info": {
   "codemirror_mode": {
    "name": "ipython",
    "version": 3
   },
   "file_extension": ".py",
   "mimetype": "text/x-python",
   "name": "python",
   "nbconvert_exporter": "python",
   "pygments_lexer": "ipython3",
   "version": "3.6.5"
  }
 },
 "nbformat": 4,
 "nbformat_minor": 2
}
