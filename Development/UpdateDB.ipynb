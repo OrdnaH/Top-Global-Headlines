{
 "cells": [
  {
   "cell_type": "code",
   "execution_count": 1,
   "metadata": {},
   "outputs": [],
   "source": [
    "import datetime as dt\n",
    "import pandas as pd\n",
    "import pymongo\n",
    "import requests\n",
    "\n",
    "from config import API_KEY\n",
    "from countries import countries, country_codes"
   ]
  },
  {
   "cell_type": "code",
   "execution_count": 2,
   "metadata": {},
   "outputs": [],
   "source": [
    "#connect to mongodb\n",
    "conn = 'mongodb://localhost:27017/top_headlines'\n",
    "client = pymongo.MongoClient(conn)\n",
    "# Declare the database\n",
    "db = client[\"top_headlines\"]\n",
    "# Declare the collection\n",
    "collection = db[\"countries_data\"]\n",
    "\n",
    "#get data\n",
    "data = collection.find()"
   ]
  },
  {
   "cell_type": "code",
   "execution_count": 3,
   "metadata": {},
   "outputs": [
    {
     "name": "stdout",
     "output_type": "stream",
     "text": [
      "Latest Date in Database: 2019-02-11\n"
     ]
    }
   ],
   "source": [
    "#set empty list for dates\n",
    "dates = []\n",
    "#find latest date\n",
    "for article in data[0][\"articles\"]:\n",
    "    dates.append(article[\"date\"])\n",
    "latestDate = max(dates)\n",
    "print(f\"Latest Date in Database: {latestDate}\")"
   ]
  },
  {
   "cell_type": "code",
   "execution_count": 4,
   "metadata": {},
   "outputs": [
    {
     "name": "stdout",
     "output_type": "stream",
     "text": [
      "Database is up to date.\n"
     ]
    }
   ],
   "source": [
    "#find today's date\n",
    "today = dt.datetime.strftime(dt.date.today(), \"%Y-%m-%d\")\n",
    "\n",
    "#get id for raw data db\n",
    "allRaw = db[\"raw_countries_data\"]\n",
    "rawID = allRaw[0][\"_id\"]\n",
    "\n",
    "#if latest date is before today,\n",
    "if latestDate < today:\n",
    "    for i in range(len(country_codes)):\n",
    "        \n",
    "        #visit news api\n",
    "        query_url = f\"https://newsapi.org/v2/top-headlines?country={country_codes[i]}&apiKey={API_KEY}\"\n",
    "        #get response\n",
    "        response = requests.get(query_url).json()\n",
    "        \n",
    "        #add raw articles data to raw countries data db\n",
    "        rawCollection = db[\"raw_countries_data\"]\n",
    "        rawCollection.update_one({\"_id\": rawID}, {\"$push\": {countries[i]: response[\"articles\"]}})\n",
    "\n",
    "        #for each article\n",
    "        for article in response[\"articles\"]:\n",
    "            #construct article dictionary\n",
    "            articleDict = {\"source\": article[\"source\"][\"name\"], \n",
    "                           \"title\": article[\"title\"].split(\" - \")[0], \n",
    "                           \"url\": article[\"url\"], \n",
    "                           \"date\": article[\"publishedAt\"][:10]}\n",
    "            #add article dict to countries data db\n",
    "            collection.update_one({\"country\": countries[i]}, {\"$push\": {\"articles\": articleDict}})\n",
    "else:\n",
    "    print(\"Database is up to date.\")"
   ]
  },
  {
   "cell_type": "code",
   "execution_count": 5,
   "metadata": {},
   "outputs": [
    {
     "data": {
      "text/plain": [
       "{'_id': ObjectId('5c619c234a065434509c125a'),\n",
       " 'country': 'Argentina',\n",
       " 'country_code': 'ar',\n",
       " 'articles': [{'source': 'Perfil.com',\n",
       "   'title': 'La Justicia rechazó el pedido de Cristina Kirchner y el 26 de febrero arranca el primer juicio oral en su con',\n",
       "   'url': 'https://www.perfil.com/noticias/politica/justicia-rechazo-pedido-cristina-kirchner-26-febrero-arranca-juicio-oral-en-su-contra%20.phtml',\n",
       "   'date': '2019-02-11'},\n",
       "  {'source': 'Tn.com.ar',\n",
       "   'title': 'Volkswagen Argentina inició la exportación de cajas de cambio a Eslovaquia',\n",
       "   'url': 'https://tn.com.ar/autos/lo-ultimo/volkswagen-argentina-inicio-la-exportacion-de-cajas-de-cambio-eslovaquia_939679',\n",
       "   'date': '2019-02-11'},\n",
       "  {'source': 'Lavoz.com.ar',\n",
       "   'title': 'Femicidio en barrio La France: la mató el día de su cumpleaños y luego se suicidó',\n",
       "   'url': 'https://www.lavoz.com.ar/ciudadanos/femicidio-en-barrio-france-mato-dia-de-su-cumpleanos-y-luego-se-suicido',\n",
       "   'date': '2019-02-11'},\n",
       "  {'source': 'Elonce.com',\n",
       "   'title': 'Autopsia confirmó que Emiliano Sala murió por \"lesiones en la cabeza y tronco\"',\n",
       "   'url': 'https://www.elonce.com/secciones/sociedad/578722-autopsia-confirmn-que-emiliano-sala-murin-por-quotlesiones-en-la-cabeza-y-troncoquot.htm',\n",
       "   'date': '2019-02-11'},\n",
       "  {'source': 'La Nacion',\n",
       "   'title': 'La Argentina negocia con cinco países para venderles el avión Pampa',\n",
       "   'url': 'https://www.lanacion.com.ar/2219109-siguen-negociaciones-vender-pampa-pero-no-hay',\n",
       "   'date': '2019-02-11'},\n",
       "  {'source': 'Tn.com.ar',\n",
       "   'title': 'La colonia donde murió ahogado el nene de 5 años da contención terapéutica a sus compañeritos: \"No sabemos qué pasó\"',\n",
       "   'url': 'https://tn.com.ar/sociedad/la-colonia-donde-murio-ahogado-el-nene-de-5-anos-da-contencion-terapeutica-sus-companeritos-no_939658',\n",
       "   'date': '2019-02-11'},\n",
       "  {'source': 'Elintra.com.ar',\n",
       "   'title': '¡Mirá las elecciones de alfombra roja más impactantes y comentadas de los premios Grammy!',\n",
       "   'url': 'https://www.elintra.com.ar/celebrities/2019/2/11/mira-las-elecciones-de-alfombra-roja-mas-impactantes-comentadas-de-los-premios-grammy-143432.html',\n",
       "   'date': '2019-02-11'},\n",
       "  {'source': 'Cronica.com.ar',\n",
       "   'title': 'Alerta meteorológico por fuertes tormentas y caída de granizo',\n",
       "   'url': 'https://www.cronica.com.ar/info-general/Alerta-meteorologico-por-fuertes-tormentas-y-caida-de-granizo-20190211-0015.html',\n",
       "   'date': '2019-02-11'},\n",
       "  {'source': 'Cienradios.com',\n",
       "   'title': 'El truco para ver los estados de WhatsApp de tus contactos, ¡sin que ellos lo sepan!',\n",
       "   'url': 'https://la100.cienradios.com/402301-2/',\n",
       "   'date': '2019-02-11'},\n",
       "  {'source': 'Losandes.com.ar',\n",
       "   'title': 'Anticipan en 42% freno para la tasa: esperaban nivel actual para mayo',\n",
       "   'url': 'https://losandes.com.ar/article/view?slug=anticipan-en-42-freno-para-la-tasa-esperaban-nivel-actual-para-mayo',\n",
       "   'date': '2019-02-11'},\n",
       "  {'source': 'Clarin.com',\n",
       "   'title': 'Andrea Ghidone, sobre Juan Darthés: \"Fue un muy buen compañero\"',\n",
       "   'url': 'https://www.clarin.com/espectaculos/fama/andrea-ghidone-juan-darthes-buen-companero_0_SOCTzOi2o.html',\n",
       "   'date': '2019-02-11'},\n",
       "  {'source': 'Infobae',\n",
       "   'title': 'Hassan Rohani amenazó con expandir el programa de misiles balísticos de Irán: No hemos pedido ni vamos a pedir',\n",
       "   'url': 'https://www.infobae.com/america/mundo/2019/02/11/hassan-rohani-amenazo-con-expandir-el-programa-de-misiles-balisticos-de-iran-no-hemos-pedido-ni-vamos-a-pedir-permiso/',\n",
       "   'date': '2019-02-11'},\n",
       "  {'source': 'Iprofesional.com',\n",
       "   'title': 'Dia anuncia 2100 despidos para salir de la quiebra',\n",
       "   'url': 'https://www.iprofesional.com/management/286340-Dia-anuncia-2100-despidos-para-salir-de-la-quiebra',\n",
       "   'date': '2019-02-11'},\n",
       "  {'source': 'Perfil.com',\n",
       "   'title': 'El FMI llega hoy a la Argentina para revisar por tercera vez el programa económico',\n",
       "   'url': 'https://www.perfil.com/noticias/economia/fmi-llega-argentina-11-febrero-revisar-tercera-vez-programa-economico.phtml',\n",
       "   'date': '2019-02-11'},\n",
       "  {'source': 'Tn.com.ar',\n",
       "   'title': 'La insólita declaración de Cristian Pavón que despertó burlas en redes sociales',\n",
       "   'url': 'https://tn.com.ar/deportes/after-play/la-insolita-declaracion-de-cristian-pavon-que-desperto-burlas-en-redes-sociales_939634',\n",
       "   'date': '2019-02-11'},\n",
       "  {'source': 'La Nacion',\n",
       "   'title': 'Racing, aturdido: el empujón de Centurión a Coudet antes de entrar ante River y qué pasará con el delantero',\n",
       "   'url': 'https://www.lanacion.com.ar/2219077-racing-aturdido-empujon-centurion-coudet-antes-entrar',\n",
       "   'date': '2019-02-11'},\n",
       "  {'source': 'Cadena3.com',\n",
       "   'title': 'Palazzo: \"Fue la edición más grande de todos los tiempos\"',\n",
       "   'url': 'https://www.cadena3.com/noticias/festivales-2019/palazzo-dejo-ser-festival-exclusivamente-rock_133445',\n",
       "   'date': '2019-02-11'},\n",
       "  {'source': 'Cienradios.com',\n",
       "   'title': 'Víctor Manzanares complicó a Cristina Kirchner: “Estuvo al tanto de todo”',\n",
       "   'url': 'https://radiomitre.cienradios.com/victor-manzanares-complico-cristina-kirchner-estuvo-al-tanto/',\n",
       "   'date': '2019-02-11'},\n",
       "  {'source': 'Infobae',\n",
       "   'title': 'En fotos: Jennifer Aniston cumple 50 años sin filtro y cerca de Brad Pitt',\n",
       "   'url': 'https://www.infobae.com/america/fotos/2019/02/11/en-fotos-jennifer-aniston-cumple-50-anos-sin-filtro-y-cerca-de-brad-pitt/',\n",
       "   'date': '2019-02-11'},\n",
       "  {'source': 'La Gaceta',\n",
       "   'title': 'Si sufrís psoriasis, el sol puede ser tu aliado en verano',\n",
       "   'url': 'https://www.lagaceta.com.ar/nota/797657/actualidad/si-sufris-psoriasis-sol-puede-ser-tu-aliado-verano.html',\n",
       "   'date': '2019-02-11'}]}"
      ]
     },
     "execution_count": 5,
     "metadata": {},
     "output_type": "execute_result"
    }
   ],
   "source": []
  },
  {
   "cell_type": "code",
   "execution_count": null,
   "metadata": {},
   "outputs": [],
   "source": []
  }
 ],
 "metadata": {
  "kernelspec": {
   "display_name": "Python 3",
   "language": "python",
   "name": "python3"
  },
  "language_info": {
   "codemirror_mode": {
    "name": "ipython",
    "version": 3
   },
   "file_extension": ".py",
   "mimetype": "text/x-python",
   "name": "python",
   "nbconvert_exporter": "python",
   "pygments_lexer": "ipython3",
   "version": "3.6.5"
  }
 },
 "nbformat": 4,
 "nbformat_minor": 2
}
